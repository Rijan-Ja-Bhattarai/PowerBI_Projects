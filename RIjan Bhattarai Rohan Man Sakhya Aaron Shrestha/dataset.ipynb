{
 "cells": [
  {
   "cell_type": "markdown",
   "id": "38cbcebe-3653-46ed-a995-aa6421dbaa37",
   "metadata": {},
   "source": [
    "# Import File and Modules"
   ]
  },
  {
   "cell_type": "code",
   "execution_count": 15,
   "id": "818fd33a-68b0-4386-9d6e-82957ca93ebf",
   "metadata": {},
   "outputs": [],
   "source": [
    "import numpy as np"
   ]
  },
  {
   "cell_type": "code",
   "execution_count": 1,
   "id": "f590b2bc-462e-4d05-ad12-13364eb3acd9",
   "metadata": {},
   "outputs": [],
   "source": [
    "import pandas as pd\n",
    "import random\n",
    "\n",
    "pd.set_option(\"display.max_rows\", 230)\n",
    "pd.set_option(\"display.width\", 300)\n",
    "\n",
    "ai_hal = pd.read_csv(\"ai_hallucination_dataset.csv\")"
   ]
  },
  {
   "cell_type": "markdown",
   "id": "ff087c70-0ac5-4738-9c26-17fde0e57bdc",
   "metadata": {},
   "source": [
    "# Clean the data"
   ]
  },
  {
   "cell_type": "code",
   "execution_count": 110,
   "id": "297acf7c-0b36-4036-b2de-e1bfdaef4224",
   "metadata": {
    "collapsed": true,
    "jupyter": {
     "outputs_hidden": true
    }
   },
   "outputs": [
    {
     "name": "stderr",
     "output_type": "stream",
     "text": [
      "C:\\Users\\ACER\\AppData\\Local\\Temp\\ipykernel_5464\\3722462638.py:1: FutureWarning: A value is trying to be set on a copy of a DataFrame or Series through chained assignment using an inplace method.\n",
      "The behavior will change in pandas 3.0. This inplace method will never work because the intermediate object on which we are setting values always behaves as a copy.\n",
      "\n",
      "For example, when doing 'df[col].method(value, inplace=True)', try using 'df.method({col: value}, inplace=True)' or df[col] = df[col].method(value) instead, to perform the operation inplace on the original object.\n",
      "\n",
      "\n",
      "  ai_hal[\"Court\"].fillna(\"Unspecified Court\", inplace = True)\n"
     ]
    }
   ],
   "source": [
    "ai_hal[\"Court\"].fillna(\"Unspecified Court\", inplace = True)\n",
    "ai_hal.rename(columns = {\"State(s)\" : \"Country\", \"Party(ies)\": \"Party\"}, inplace = True)"
   ]
  },
  {
   "cell_type": "code",
   "execution_count": 111,
   "id": "ad35b890-20ee-4f8b-a9ec-6aeb7be69147",
   "metadata": {},
   "outputs": [],
   "source": [
    "ai_hal.at[72, \"Country\"] = \"Israel\"\n",
    "ai_hal.at[135, \"Country\"] = \"Joseph McKenna\"\n",
    "ai_hal.at[95, \"Country\"] = \"Joseph McKenna\""
   ]
  },
  {
   "cell_type": "code",
   "execution_count": 112,
   "id": "d6c4e133-4611-49f8-a967-1b8e668e6d53",
   "metadata": {
    "collapsed": true,
    "jupyter": {
     "outputs_hidden": true
    },
    "scrolled": true
   },
   "outputs": [
    {
     "name": "stderr",
     "output_type": "stream",
     "text": [
      "C:\\Users\\ACER\\AppData\\Local\\Temp\\ipykernel_5464\\4166197393.py:2: FutureWarning: A value is trying to be set on a copy of a DataFrame or Series through chained assignment using an inplace method.\n",
      "The behavior will change in pandas 3.0. This inplace method will never work because the intermediate object on which we are setting values always behaves as a copy.\n",
      "\n",
      "For example, when doing 'df[col].method(value, inplace=True)', try using 'df.method({col: value}, inplace=True)' or df[col] = df[col].method(value) instead, to perform the operation inplace on the original object.\n",
      "\n",
      "\n",
      "  ai_hal[\"Case Name\"].fillna(\"Confidential Court Case\", inplace = True)\n"
     ]
    }
   ],
   "source": [
    "ai_hal[\"Case Name\"].isnull().sum()\n",
    "ai_hal[\"Case Name\"].fillna(\"Confidential Court Case\", inplace = True)"
   ]
  },
  {
   "cell_type": "code",
   "execution_count": 3,
   "id": "ad118068-8e0d-4011-993f-29ed56ae3366",
   "metadata": {
    "collapsed": true,
    "jupyter": {
     "outputs_hidden": true
    }
   },
   "outputs": [
    {
     "name": "stderr",
     "output_type": "stream",
     "text": [
      "C:\\Users\\ACER\\AppData\\Local\\Temp\\ipykernel_39592\\859744030.py:1: FutureWarning: Series.fillna with 'method' is deprecated and will raise in a future version. Use obj.ffill() or obj.bfill() instead.\n",
      "  ai_hal[\"Date\"] = ai_hal[\"Date\"].fillna(method = \"ffill\")\n"
     ]
    }
   ],
   "source": [
    "ai_hal[\"Date\"] = ai_hal[\"Date\"].fillna(method = \"ffill\")\n",
    "\n",
    "ai_hal[\"Party\"] = ai_hal[\"Party\"].fillna(\"Lawyer\")\n",
    "\n",
    "ai_hal[\"AI Tool\"] = ai_hal[\"AI Tool\"].fillna(\"Unidentified\")\n",
    "\n",
    "ai_hal[\"Outcome\"] = ai_hal[\"Outcome\"].fillna(\"Undisclosed\")\n",
    "\n",
    "ai_hal[\"Monetary Penalty\"] = ai_hal[\"Monetary Penalty\"].fillna(0)"
   ]
  },
  {
   "cell_type": "code",
   "execution_count": 10,
   "id": "eb78b4bc-4305-4730-a4d4-500a17a5b379",
   "metadata": {},
   "outputs": [],
   "source": [
    "key_principle_pool = [\n",
    "    \"AI cannot substitute legal reasoning\",\n",
    "    \"Verification of facts is mandatory\",\n",
    "    \"Hallucinated citations compromise justice\",\n",
    "    \"Transparent AI usage is essential\",\n",
    "    \"Due diligence lies with legal counsel\",\n",
    "    \"AI-generated evidence must be reviewed\",\n",
    "    \"Ethical oversight is non-negotiable\",\n",
    "    \"Unverified AI output is inadmissible\",\n",
    "    \"AI should not fabricate precedents\",\n",
    "    \"Bias in AI cannot justify poor judgment\",\n",
    "    \"Human accountability in tech errors\",\n",
    "    \"AI is a tool, not a decision-maker\",\n",
    "    \"Legal professionals must vet all inputs\",\n",
    "    \"False confidence in AI is dangerous\",\n",
    "    \"Misuse of AI can result in malpractice\",\n",
    "    \"Courtroom evidence must be human-vetted\",\n",
    "    \"Judicial trust must not rely on machines\",\n",
    "    \"AI hallucinations require firm penalties\",\n",
    "    \"Proper documentation of sources is critical\",\n",
    "    \"Technical ignorance is no excuse\",\n",
    "    \"Court decisions must be explainable\",\n",
    "    \"Confidentiality breaches through AI are punishable\",\n",
    "    \"AI must uphold constitutional values\",\n",
    "    \"Misleading content harms public trust\",\n",
    "    \"Duty to reject unverified digital content\",\n",
    "    \"Hallucination incidents must be disclosed\",\n",
    "    \"AI input must align with legal norms\",\n",
    "    \"No automation in judgment justification\",\n",
    "    \"Judges must question AI-generated filings\",\n",
    "    \"AI cannot override legal precedent\",\n",
    "    \"Digital tools must maintain factual fidelity\",\n",
    "    \"Citations must be traceable and real\",\n",
    "    \"Accountability is human, not algorithmic\",\n",
    "    \"False data leads to real-world injustice\",\n",
    "    \"Overreliance on AI reflects incompetence\",\n",
    "    \"AI must assist, not dictate\",\n",
    "    \"Invalid citations indicate legal negligence\",\n",
    "    \"Judicial integrity must be protected\",\n",
    "    \"Tech-assisted law must remain lawful\",\n",
    "    \"Courts reject unverifiable information\",\n",
    "    \"AI hallucination is a procedural failure\",\n",
    "    \"Transparent methodology is required in tech use\",\n",
    "    \"Clients must be informed of AI use\",\n",
    "    \"AI audit trails should be mandatory\",\n",
    "    \"Legal ethics override digital convenience\",\n",
    "    \"Fabricated facts are grounds for dismissal\",\n",
    "    \"Every claim must be corroborated\",\n",
    "    \"Tech literacy is now a legal requirement\",\n",
    "    \"AI outputs are not legal authority\",\n",
    "    \"Disinformation must be actively countered\"\n",
    "]\n",
    "\n",
    "\n",
    "ai_hal[\"Key Principle\"] = ai_hal[\"Key Principle\"].apply(\n",
    "    lambda x: None if \"<function\" in str(x) else x\n",
    ")\n",
    "\n",
    "ai_hal[\"Key Principle\"] = ai_hal[\"Key Principle\"].apply(\n",
    "    lambda x: x if pd.notnull(x) else random.choice(key_principle_pool)\n",
    ")"
   ]
  },
  {
   "cell_type": "code",
   "execution_count": 22,
   "id": "79202847-d3ea-4ab2-8f9c-f29e446c4994",
   "metadata": {},
   "outputs": [],
   "source": [
    "details_pool = [\n",
    "    \"The AI tool referenced a non-existent appellate case to support the plaintiff’s argument.\",\n",
    "    \"Generated summary misrepresented the timeline of key evidence.\",\n",
    "    \"Cited a statute that was never passed into law, misleading the defense.\",\n",
    "    \"Counsel submitted AI-generated content without independent verification.\",\n",
    "    \"A juror used ChatGPT to understand legal jargon, leading to misinformation during deliberation.\",\n",
    "    \"Sentencing was drafted with AI assistance, omitting mitigating factors.\",\n",
    "    \"Translated testimony using AI misrepresented key witness statements.\",\n",
    "    \"Evidence included an AI-altered video that was not verified for authenticity.\",\n",
    "    \"An AI tool trained on outdated data showed systemic bias in predicting reoffense risk.\",\n",
    "    \"AI suggested an overturned case as supporting precedent.\",\n",
    "    \"AI misquoted a judge’s ruling from a different jurisdiction.\",\n",
    "    \"Chatbot-generated affidavit omitted critical legal disclaimers.\",\n",
    "    \"AI translated legal terminology incorrectly, skewing arguments.\",\n",
    "    \"The legal team failed to identify a fabricated AI-generated witness testimony.\",\n",
    "    \"Case was delayed due to AI-generated documents referencing unavailable court rulings.\",\n",
    "    \"AI hallucinated a timeline that contradicted surveillance footage.\",\n",
    "    \"AI-generated exhibits were admitted without metadata verification.\",\n",
    "    \"Algorithm altered the sequence of emails in a fraud investigation.\",\n",
    "    \"AI's summary of past convictions misclassified petty offenses as felonies.\",\n",
    "    \"Lawyer used AI to predict verdict probability without disclosing bias in training data.\",\n",
    "    \"Legal assistant relied on AI to proof legal clauses, missing ambiguous phrasing.\",\n",
    "    \"AI falsely identified a defendant as previously convicted.\",\n",
    "    \"AI-generated risk assessment led to harsher bail conditions.\",\n",
    "    \"Court documents were flagged due to AI-generated inconsistent referencing format.\",\n",
    "    \"Judgment included hallucinated legal doctrine from non-existent journal.\",\n",
    "    \"AI wrongly translated key exhibit documents from Spanish to English.\",\n",
    "    \"Defense argued improper use of AI violated due process.\",\n",
    "    \"AI confused two similar-sounding legal precedents, misleading the jury.\",\n",
    "    \"Model fabricated expert testimony in summary briefs.\",\n",
    "    \"Court ruling was appealed due to reliance on unverified AI translations.\",\n",
    "    \"AI inserted citation from a fictional legal magazine.\",\n",
    "    \"Prosecutor used AI-generated forensic model without validating its methodology.\",\n",
    "    \"Assistant added AI-written footnotes that contradicted the main argument.\",\n",
    "    \"Court reprimanded legal intern for submitting AI-written cross-examination questions.\",\n",
    "    \"AI misclassified a civil matter as a criminal case in pretrial documentation.\",\n",
    "    \"Generated legal motion contradicted local jurisdictional laws.\",\n",
    "    \"Algorithm omitted prior settlements relevant to the ongoing dispute.\",\n",
    "    \"Summary judgement influenced by biased AI-generated sentiment analysis.\",\n",
    "    \"AI tool inaccurately matched legal citations to wrong cases.\",\n",
    "    \"Expert witness relied on AI simulations without replicability.\",\n",
    "    \"Hallucinated historical case law used in climate litigation.\",\n",
    "    \"AI wrongly assigned liability in a complex multi-defendant lawsuit.\",\n",
    "    \"Witness summary was auto-generated by a tool using unreliable NLP tagging.\",\n",
    "    \"Evidence chain-of-custody was broken due to automated timestamping errors.\",\n",
    "    \"AI misidentified statute expiration dates, impacting appeal timeline.\",\n",
    "    \"AI-assigned case tags led to misfiling of urgent case materials.\",\n",
    "    \"Court cited AI hallucination as grounds for retrial.\",\n",
    "    \"Legal chatbot misrepresented tenant rights during landlord dispute.\",\n",
    "    \"AI merged two unrelated cases in legal summary submission.\",\n",
    "    \"Assistant unknowingly submitted AI-fabricated letters of authority.\"\n",
    "]\n",
    "\n",
    "ai_hal[\"Details\"] = ai_hal[\"Details\"].apply(\n",
    "    lambda x: None if \"<function\" in str(x) else x\n",
    ")\n",
    "\n",
    "ai_hal[\"Details\"] = ai_hal[\"Details\"].apply(\n",
    "    lambda x: x if pd.notnull(x) else random.choice(details_pool)\n",
    ")"
   ]
  },
  {
   "cell_type": "markdown",
   "id": "d9e89dd5-db34-4014-9a78-12e8515a592c",
   "metadata": {},
   "source": [
    "# Fix Datatypes"
   ]
  },
  {
   "cell_type": "code",
   "execution_count": 130,
   "id": "e8f3d3b6-9bee-4091-abb9-06e73998cd7b",
   "metadata": {},
   "outputs": [],
   "source": [
    "ai_hal[\"Date\"] = pd.to_datetime(ai_hal[\"Date\"])"
   ]
  },
  {
   "cell_type": "code",
   "execution_count": 134,
   "id": "bc5c3bd6-2efa-4583-a934-d065fae56ccf",
   "metadata": {},
   "outputs": [],
   "source": [
    "ai_hal[\"Monetary Penalty\"] = ai_hal[\"Monetary Penalty\"].str.replace(r'[^\\d\\.-]', '', regex=True)\n",
    "\n",
    "ai_hal[\"Monetary Penalty\"] = pd.to_numeric(ai_hal[\"Monetary Penalty\"], errors='coerce')"
   ]
  },
  {
   "cell_type": "markdown",
   "id": "ec20ab53-94d4-4419-80bb-17d063978603",
   "metadata": {},
   "source": [
    "# Remove/Fix Unnecessary Columns"
   ]
  },
  {
   "cell_type": "code",
   "execution_count": null,
   "id": "4cda37c4-76d2-4744-9736-0f77475cb13d",
   "metadata": {},
   "outputs": [],
   "source": [
    "ai_hal = ai_hal.drop(\"Pointer\", axis = 1)\n",
    "\n",
    "ai_hal = ai_hal.drop(\"Source\", axis = 1)"
   ]
  },
  {
   "cell_type": "code",
   "execution_count": 6,
   "id": "c57fa797-2592-4880-bc77-af4dee4b9fc7",
   "metadata": {},
   "outputs": [],
   "source": [
    "ai_hal = ai_hal.rename(columns = {\"Monetary Penalty\" : \"Monetary Penalty (USD$)\"})"
   ]
  },
  {
   "cell_type": "markdown",
   "id": "b5fef8d3-d8c9-4095-b727-f9555cdaf02e",
   "metadata": {},
   "source": [
    "# Export The File"
   ]
  },
  {
   "cell_type": "code",
   "execution_count": 24,
   "id": "dc9ad106-c123-44a0-ac5f-41b25dc6c4a7",
   "metadata": {},
   "outputs": [],
   "source": [
    "ai_hal.to_csv(\"ai_hallucination_dataset.csv\", index=False)"
   ]
  }
 ],
 "metadata": {
  "kernelspec": {
   "display_name": "Python 3 (ipykernel)",
   "language": "python",
   "name": "python3"
  },
  "language_info": {
   "codemirror_mode": {
    "name": "ipython",
    "version": 3
   },
   "file_extension": ".py",
   "mimetype": "text/x-python",
   "name": "python",
   "nbconvert_exporter": "python",
   "pygments_lexer": "ipython3",
   "version": "3.13.5"
  }
 },
 "nbformat": 4,
 "nbformat_minor": 5
}
