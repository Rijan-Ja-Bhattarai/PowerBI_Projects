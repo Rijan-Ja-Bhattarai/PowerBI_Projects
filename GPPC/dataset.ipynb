{
 "cells": [
  {
   "cell_type": "markdown",
   "id": "38cbcebe-3653-46ed-a995-aa6421dbaa37",
   "metadata": {},
   "source": [
    "# Import File and Modules"
   ]
  },
  {
   "cell_type": "code",
   "execution_count": 2,
   "id": "f590b2bc-462e-4d05-ad12-13364eb3acd9",
   "metadata": {},
   "outputs": [],
   "source": [
    "import pandas as pd\n",
    "\n",
    "cor_idx = pd.read_csv(\"C:/Users/ACER/Documents/GitHub/PowerBI_Projects/GPPC/ti-corruption-perception-index.csv\") # Corruption Index Datafile\n",
    "child_mor_idx = pd.read_csv(\"C:/Users/ACER/Documents/GitHub/PowerBI_Projects/GPPC/child-mortality-rate.csv\")\n",
    "hunger_idx = pd.read_csv(\"C:/Users/ACER/Documents/GitHub/PowerBI_Projects/GPPC/global-hunger-index/global-hunger-index.csv\")\n",
    "emig_idx = pd.read_csv(\"C:/Users/ACER/Documents/GitHub/PowerBI_Projects/GPPC/total-number-of-emigrants.csv\")\n",
    "child_work_idx = pd.read_csv(\"C:/Users/ACER/Documents/GitHub/PowerBI_Projects/GPPC/average-working-hours-of-children/average-working-hours-of-children.csv\")\n",
    "literacy_rate_idx = pd.read_csv(\"C:/Users/ACER/Documents/GitHub/PowerBI_Projects/GPPC/cross-country-literacy-rates/cross-country-literacy-rates.csv\")\n",
    "ggap_wage_idx = pd.read_csv(\"C:/Users/ACER/Documents/GitHub/PowerBI_Projects/GPPC/gender-gap-in-average-wages-ilo/gender-gap-in-average-wages-ilo.csv\")\n",
    "homelessness_idx = pd.read_csv(\"C:/Users/ACER/Documents/GitHub/PowerBI_Projects/GPPC/homelessness-rate-point-in-time-count/homelessness-rate-point-in-time-count.csv\")\n",
    "life_expec_idx = pd.read_csv(\"C:/Users/ACER/Documents/GitHub/PowerBI_Projects/GPPC/life-expectancy/life-expectancy.csv\")\n",
    "gov_expend_edu_idx = pd.read_csv(\"C:/Users/ACER/Documents/GitHub/PowerBI_Projects/GPPC/total-government-expenditure-on-education-gdp/total-government-expenditure-on-education-gdp.csv\")\n"
   ]
  },
  {
   "cell_type": "markdown",
   "id": "ff087c70-0ac5-4738-9c26-17fde0e57bdc",
   "metadata": {},
   "source": [
    "# Clean the data"
   ]
  },
  {
   "cell_type": "code",
   "execution_count": null,
   "id": "0c0242e0-2b09-4789-8304-7f88d1dd01b9",
   "metadata": {},
   "outputs": [],
   "source": [
    "cor_idx.rename(columns = {\n",
    "    'World': 'World Region',\n",
    "    'Corruption Perceptions Index': 'Corruption Index',\n",
    "    'Entity': 'Country'\n",
    "}, inplace = True)\n",
    "\n",
    "cor_idx.drop(\"Code\", axis=1, inplace=True)"
   ]
  },
  {
   "cell_type": "markdown",
   "id": "73ce47db-1232-4779-836b-455babf682f1",
   "metadata": {},
   "source": [
    "# Fill Null Values"
   ]
  },
  {
   "cell_type": "code",
   "execution_count": 43,
   "id": "9b538121-2b70-4767-b612-52d3a2fd2765",
   "metadata": {
    "collapsed": true,
    "jupyter": {
     "outputs_hidden": true
    }
   },
   "outputs": [
    {
     "name": "stderr",
     "output_type": "stream",
     "text": [
      "C:\\Users\\ACER\\AppData\\Local\\Temp\\ipykernel_8024\\4112242106.py:1: FutureWarning: A value is trying to be set on a copy of a DataFrame or Series through chained assignment using an inplace method.\n",
      "The behavior will change in pandas 3.0. This inplace method will never work because the intermediate object on which we are setting values always behaves as a copy.\n",
      "\n",
      "For example, when doing 'df[col].method(value, inplace=True)', try using 'df.method({col: value}, inplace=True)' or df[col] = df[col].method(value) instead, to perform the operation inplace on the original object.\n",
      "\n",
      "\n",
      "  cor_idx[\"Corruption Index\"].fillna(cor_idx[\"Corruption Index\"].mean(), inplace = True)\n",
      "C:\\Users\\ACER\\AppData\\Local\\Temp\\ipykernel_8024\\4112242106.py:2: FutureWarning: A value is trying to be set on a copy of a DataFrame or Series through chained assignment using an inplace method.\n",
      "The behavior will change in pandas 3.0. This inplace method will never work because the intermediate object on which we are setting values always behaves as a copy.\n",
      "\n",
      "For example, when doing 'df[col].method(value, inplace=True)', try using 'df.method({col: value}, inplace=True)' or df[col] = df[col].method(value) instead, to perform the operation inplace on the original object.\n",
      "\n",
      "\n",
      "  cor_idx[\"World Region\"].fillna(method = \"ffill\", inplace = True)\n",
      "C:\\Users\\ACER\\AppData\\Local\\Temp\\ipykernel_8024\\4112242106.py:2: FutureWarning: Series.fillna with 'method' is deprecated and will raise in a future version. Use obj.ffill() or obj.bfill() instead.\n",
      "  cor_idx[\"World Region\"].fillna(method = \"ffill\", inplace = True)\n"
     ]
    }
   ],
   "source": [
    "cor_idx[\"Corruption Index\"].fillna(cor_idx[\"Corruption Index\"].mean(), inplace = True)\n",
    "cor_idx[\"World Region\"].fillna(method = \"ffill\", inplace = True)"
   ]
  },
  {
   "cell_type": "markdown",
   "id": "b5fef8d3-d8c9-4095-b727-f9555cdaf02e",
   "metadata": {},
   "source": [
    "# Export The File"
   ]
  },
  {
   "cell_type": "code",
   "execution_count": 45,
   "id": "0405349d-017c-464c-8b53-47020ee118b3",
   "metadata": {},
   "outputs": [],
   "source": [
    "cor_idx.to_csv(\"C:/Users/ACER/Documents/GitHub/PowerBI_Projects/GPPC/ti-corruption-perception-index.csv\")"
   ]
  }
 ],
 "metadata": {
  "kernelspec": {
   "display_name": "Python 3 (ipykernel)",
   "language": "python",
   "name": "python3"
  },
  "language_info": {
   "codemirror_mode": {
    "name": "ipython",
    "version": 3
   },
   "file_extension": ".py",
   "mimetype": "text/x-python",
   "name": "python",
   "nbconvert_exporter": "python",
   "pygments_lexer": "ipython3",
   "version": "3.13.5"
  }
 },
 "nbformat": 4,
 "nbformat_minor": 5
}
