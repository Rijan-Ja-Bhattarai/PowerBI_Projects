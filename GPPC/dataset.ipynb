{
 "cells": [
  {
   "cell_type": "markdown",
   "id": "38cbcebe-3653-46ed-a995-aa6421dbaa37",
   "metadata": {},
   "source": [
    "# Import File and Modules"
   ]
  },
  {
   "cell_type": "code",
   "execution_count": 109,
   "id": "f590b2bc-462e-4d05-ad12-13364eb3acd9",
   "metadata": {},
   "outputs": [],
   "source": [
    "import pandas as pd\n",
    "import random\n",
    "\n",
    "pd.set_option(\"display.max_rows\", 230)\n",
    "pd.set_option(\"display.width\", 300)\n",
    "\n",
    "ai_hal = pd.read_csv(\"AI_Hallucination.csv\")"
   ]
  },
  {
   "cell_type": "markdown",
   "id": "ff087c70-0ac5-4738-9c26-17fde0e57bdc",
   "metadata": {},
   "source": [
    "# Clean the data"
   ]
  },
  {
   "cell_type": "code",
   "execution_count": 110,
   "id": "297acf7c-0b36-4036-b2de-e1bfdaef4224",
   "metadata": {
    "collapsed": true,
    "jupyter": {
     "outputs_hidden": true
    }
   },
   "outputs": [
    {
     "name": "stderr",
     "output_type": "stream",
     "text": [
      "C:\\Users\\ACER\\AppData\\Local\\Temp\\ipykernel_5464\\3722462638.py:1: FutureWarning: A value is trying to be set on a copy of a DataFrame or Series through chained assignment using an inplace method.\n",
      "The behavior will change in pandas 3.0. This inplace method will never work because the intermediate object on which we are setting values always behaves as a copy.\n",
      "\n",
      "For example, when doing 'df[col].method(value, inplace=True)', try using 'df.method({col: value}, inplace=True)' or df[col] = df[col].method(value) instead, to perform the operation inplace on the original object.\n",
      "\n",
      "\n",
      "  ai_hal[\"Court\"].fillna(\"Unspecified Court\", inplace = True)\n"
     ]
    }
   ],
   "source": [
    "ai_hal[\"Court\"].fillna(\"Unspecified Court\", inplace = True)\n",
    "ai_hal.rename(columns = {\"State(s)\" : \"Country\", \"Party(ies)\": \"Party\"}, inplace = True)"
   ]
  },
  {
   "cell_type": "code",
   "execution_count": 111,
   "id": "ad35b890-20ee-4f8b-a9ec-6aeb7be69147",
   "metadata": {},
   "outputs": [],
   "source": [
    "ai_hal.at[72, \"Country\"] = \"Israel\"\n",
    "ai_hal.at[135, \"Country\"] = \"Joseph McKenna\"\n",
    "ai_hal.at[95, \"Country\"] = \"Joseph McKenna\""
   ]
  },
  {
   "cell_type": "code",
   "execution_count": 112,
   "id": "d6c4e133-4611-49f8-a967-1b8e668e6d53",
   "metadata": {
    "collapsed": true,
    "jupyter": {
     "outputs_hidden": true
    },
    "scrolled": true
   },
   "outputs": [
    {
     "name": "stderr",
     "output_type": "stream",
     "text": [
      "C:\\Users\\ACER\\AppData\\Local\\Temp\\ipykernel_5464\\4166197393.py:2: FutureWarning: A value is trying to be set on a copy of a DataFrame or Series through chained assignment using an inplace method.\n",
      "The behavior will change in pandas 3.0. This inplace method will never work because the intermediate object on which we are setting values always behaves as a copy.\n",
      "\n",
      "For example, when doing 'df[col].method(value, inplace=True)', try using 'df.method({col: value}, inplace=True)' or df[col] = df[col].method(value) instead, to perform the operation inplace on the original object.\n",
      "\n",
      "\n",
      "  ai_hal[\"Case Name\"].fillna(\"Confidential Court Case\", inplace = True)\n"
     ]
    }
   ],
   "source": [
    "ai_hal[\"Case Name\"].isnull().sum()\n",
    "ai_hal[\"Case Name\"].fillna(\"Confidential Court Case\", inplace = True)"
   ]
  },
  {
   "cell_type": "code",
   "execution_count": 113,
   "id": "ad118068-8e0d-4011-993f-29ed56ae3366",
   "metadata": {
    "collapsed": true,
    "jupyter": {
     "outputs_hidden": true
    }
   },
   "outputs": [
    {
     "name": "stderr",
     "output_type": "stream",
     "text": [
      "C:\\Users\\ACER\\AppData\\Local\\Temp\\ipykernel_5464\\1362347046.py:1: FutureWarning: A value is trying to be set on a copy of a DataFrame or Series through chained assignment using an inplace method.\n",
      "The behavior will change in pandas 3.0. This inplace method will never work because the intermediate object on which we are setting values always behaves as a copy.\n",
      "\n",
      "For example, when doing 'df[col].method(value, inplace=True)', try using 'df.method({col: value}, inplace=True)' or df[col] = df[col].method(value) instead, to perform the operation inplace on the original object.\n",
      "\n",
      "\n",
      "  ai_hal[\"Date\"].fillna(method = \"ffill\", inplace = True)\n",
      "C:\\Users\\ACER\\AppData\\Local\\Temp\\ipykernel_5464\\1362347046.py:1: FutureWarning: Series.fillna with 'method' is deprecated and will raise in a future version. Use obj.ffill() or obj.bfill() instead.\n",
      "  ai_hal[\"Date\"].fillna(method = \"ffill\", inplace = True)\n"
     ]
    }
   ],
   "source": [
    "ai_hal[\"Date\"].fillna(method = \"ffill\", inplace = True)\n",
    "\n",
    "ai_hal[\"Party\"] = ai_hal[\"Party\"].fillna(\"Lawyer\")\n",
    "\n",
    "ai_hal[\"AI Tool\"] = ai_hal[\"AI Tool\"].fillna(\"Unidentified\")\n",
    "\n",
    "ai_hal[\"Outcome\"] = ai_hal[\"Outcome\"].fillna(\"Undisclosed\")\n",
    "\n",
    "ai_hal[\"Monetary Penalty\"] = ai_hal[\"Monetary Penalty\"].fillna(0)"
   ]
  },
  {
   "cell_type": "code",
   "execution_count": 114,
   "id": "eb78b4bc-4305-4730-a4d4-500a17a5b379",
   "metadata": {},
   "outputs": [],
   "source": [
    "principles_pool = [\n",
    "    \"Violation of ethical duty of care in legal research\",\n",
    "    \"Failure to validate statutory authenticity\",\n",
    "    \"Improper reliance on unverified third-party tools\",\n",
    "    \"Lack of human oversight in legal documentation\",\n",
    "    \"Breach of judicial transparency protocols\",\n",
    "    \"Algorithmic overconfidence impacting due process\"\n",
    "]\n",
    "\n",
    "ai_hal[\"Key Principle\"] = ai_hal[\"Key Principle\"].fillna(\n",
    "    lambda x: random.choice(principles_pool)\n",
    ")"
   ]
  },
  {
   "cell_type": "code",
   "execution_count": 126,
   "id": "79202847-d3ea-4ab2-8f9c-f29e446c4994",
   "metadata": {},
   "outputs": [],
   "source": [
    "details_pool = [\n",
    "    \"The AI tool referenced a non-existent appellate case to support the plaintiff’s argument.\",\n",
    "    \"Generated summary misrepresented the timeline of key evidence.\",\n",
    "    \"Cited a statute that was never passed into law, misleading the defense.\",\n",
    "    \"Counsel submitted AI-generated content without independent verification.\",\n",
    "    \"A juror used ChatGPT to understand legal jargon, leading to misinformation during deliberation.\",\n",
    "    \"Sentencing was drafted with AI assistance, omitting mitigating factors.\",\n",
    "    \"Translated testimony using AI misrepresented key witness statements.\",\n",
    "    \"Evidence included an AI-altered video that was not verified for authenticity.\",\n",
    "    \"An AI tool trained on outdated data showed systemic bias in predicting reoffense risk.\",\n",
    "    \"AI suggested an overturned case as supporting precedent.\"\n",
    "]\n",
    "\n",
    "# Fill NaNs in 'Details' column using the synthetic pool\n",
    "ai_hal[\"Details\"] = ai_hal[\"Details\"].fillna(lambda x: random.choice(details_pool))\n",
    "\n",
    "# Optional: Tag synthetic vs original\n",
    "ai_hal[\"Details Source\"] = ai_hal[\"Details\"].apply(\n",
    "    lambda x: \"Synthetic\" if x in details_pool else \"Original\"\n",
    ")"
   ]
  },
  {
   "cell_type": "markdown",
   "id": "d9e89dd5-db34-4014-9a78-12e8515a592c",
   "metadata": {},
   "source": [
    "# Fix Datatypes"
   ]
  },
  {
   "cell_type": "code",
   "execution_count": 130,
   "id": "e8f3d3b6-9bee-4091-abb9-06e73998cd7b",
   "metadata": {},
   "outputs": [],
   "source": [
    "ai_hal[\"Date\"] = pd.to_datetime(ai_hal[\"Date\"])"
   ]
  },
  {
   "cell_type": "code",
   "execution_count": 134,
   "id": "bc5c3bd6-2efa-4583-a934-d065fae56ccf",
   "metadata": {},
   "outputs": [],
   "source": [
    "ai_hal[\"Monetary Penalty\"] = ai_hal[\"Monetary Penalty\"].str.replace(r'[^\\d\\.-]', '', regex=True)\n",
    "\n",
    "ai_hal[\"Monetary Penalty\"] = pd.to_numeric(ai_hal[\"Monetary Penalty\"], errors='coerce')"
   ]
  },
  {
   "cell_type": "code",
   "execution_count": 135,
   "id": "af3894cb-112b-4e6a-8b55-33ea10f9720a",
   "metadata": {
    "collapsed": true,
    "jupyter": {
     "outputs_hidden": true
    }
   },
   "outputs": [
    {
     "name": "stdout",
     "output_type": "stream",
     "text": [
      "<class 'pandas.core.frame.DataFrame'>\n",
      "RangeIndex: 230 entries, 0 to 229\n",
      "Data columns (total 13 columns):\n",
      " #   Column                 Non-Null Count  Dtype         \n",
      "---  ------                 --------------  -----         \n",
      " 0   Case Name              230 non-null    object        \n",
      " 1   Court                  230 non-null    object        \n",
      " 2   Country                230 non-null    object        \n",
      " 3   Date                   230 non-null    datetime64[ns]\n",
      " 4   Party                  230 non-null    object        \n",
      " 5   AI Tool                230 non-null    object        \n",
      " 6   Hallucination          230 non-null    object        \n",
      " 7   Outcome                230 non-null    object        \n",
      " 8   Monetary Penalty       50 non-null     float64       \n",
      " 9   Professional Sanction  230 non-null    object        \n",
      " 10  Key Principle          230 non-null    object        \n",
      " 11  Details                230 non-null    object        \n",
      " 12  Details Source         230 non-null    object        \n",
      "dtypes: datetime64[ns](1), float64(1), object(11)\n",
      "memory usage: 23.5+ KB\n"
     ]
    }
   ],
   "source": [
    "ai_hal.info()"
   ]
  },
  {
   "cell_type": "markdown",
   "id": "ec20ab53-94d4-4419-80bb-17d063978603",
   "metadata": {},
   "source": [
    "# Remove Unnecessary Columns"
   ]
  },
  {
   "cell_type": "code",
   "execution_count": null,
   "id": "4cda37c4-76d2-4744-9736-0f77475cb13d",
   "metadata": {},
   "outputs": [],
   "source": [
    "ai_hal = ai_hal.drop(\"Pointer\", axis = 1)\n",
    "\n",
    "ai_hal = ai_hal.drop(\"Source\", axis = 1)"
   ]
  },
  {
   "cell_type": "markdown",
   "id": "b5fef8d3-d8c9-4095-b727-f9555cdaf02e",
   "metadata": {},
   "source": [
    "# Export The File"
   ]
  },
  {
   "cell_type": "code",
   "execution_count": 136,
   "id": "dc9ad106-c123-44a0-ac5f-41b25dc6c4a7",
   "metadata": {},
   "outputs": [],
   "source": [
    "ai_hal.to_csv(\"ai_hallucination_dataset.csv\", index=False)"
   ]
  }
 ],
 "metadata": {
  "kernelspec": {
   "display_name": "Python 3 (ipykernel)",
   "language": "python",
   "name": "python3"
  },
  "language_info": {
   "codemirror_mode": {
    "name": "ipython",
    "version": 3
   },
   "file_extension": ".py",
   "mimetype": "text/x-python",
   "name": "python",
   "nbconvert_exporter": "python",
   "pygments_lexer": "ipython3",
   "version": "3.13.5"
  }
 },
 "nbformat": 4,
 "nbformat_minor": 5
}
