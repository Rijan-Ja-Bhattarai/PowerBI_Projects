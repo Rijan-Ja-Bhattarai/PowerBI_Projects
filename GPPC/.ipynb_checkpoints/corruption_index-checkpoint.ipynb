{
 "cells": [
  {
   "cell_type": "markdown",
   "id": "38cbcebe-3653-46ed-a995-aa6421dbaa37",
   "metadata": {},
   "source": [
    "# Import File and Modules"
   ]
  },
  {
   "cell_type": "code",
   "execution_count": 32,
   "id": "f590b2bc-462e-4d05-ad12-13364eb3acd9",
   "metadata": {},
   "outputs": [],
   "source": [
    "import pandas as pd\n",
    "\n",
    "cor_idx = pd.read_csv(\"C:/Users/ACER/Documents/GitHub/PowerBI_Projects/GPPC/ti-corruption-perception-index.csv\") # Corruption Index Datafile"
   ]
  },
  {
   "cell_type": "markdown",
   "id": "ff087c70-0ac5-4738-9c26-17fde0e57bdc",
   "metadata": {},
   "source": [
    "# Clean the data"
   ]
  },
  {
   "cell_type": "code",
   "execution_count": 35,
   "id": "9f336e0d-e629-4b7a-8017-d321032d7cf9",
   "metadata": {
    "collapsed": true,
    "jupyter": {
     "outputs_hidden": true
    }
   },
   "outputs": [
    {
     "name": "stdout",
     "output_type": "stream",
     "text": [
      "<class 'pandas.core.frame.DataFrame'>\n",
      "RangeIndex: 2403 entries, 0 to 2402\n",
      "Data columns (total 4 columns):\n",
      " #   Column            Non-Null Count  Dtype  \n",
      "---  ------            --------------  -----  \n",
      " 0   Country           2403 non-null   object \n",
      " 1   Year              2403 non-null   int64  \n",
      " 2   Corruption Index  2312 non-null   float64\n",
      " 3   World Region      294 non-null    object \n",
      "dtypes: float64(1), int64(1), object(2)\n",
      "memory usage: 75.2+ KB\n"
     ]
    }
   ],
   "source": [
    "cor_idx = cor_idx.rename(columns = {\n",
    "    'World': 'World Region',\n",
    "    'Corruption Perceptions Index': 'Corruption Index',\n",
    "    'Entity': 'Country'\n",
    "})\n",
    "\n",
    "cor_idx.drop(\"Code\", axis=1, inplace=True)"
   ]
  },
  {
   "cell_type": "code",
   "execution_count": null,
   "id": "f8097f7e-5c44-4953-8fbe-be0072201460",
   "metadata": {},
   "outputs": [],
   "source": []
  }
 ],
 "metadata": {
  "kernelspec": {
   "display_name": "Python 3 (ipykernel)",
   "language": "python",
   "name": "python3"
  },
  "language_info": {
   "codemirror_mode": {
    "name": "ipython",
    "version": 3
   },
   "file_extension": ".py",
   "mimetype": "text/x-python",
   "name": "python",
   "nbconvert_exporter": "python",
   "pygments_lexer": "ipython3",
   "version": "3.13.5"
  }
 },
 "nbformat": 4,
 "nbformat_minor": 5
}
