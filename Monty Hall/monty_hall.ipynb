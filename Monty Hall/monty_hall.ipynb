{
 "cells": [
  {
   "cell_type": "code",
   "execution_count": 1,
   "id": "80dabfd6-cf4b-4d4f-a054-cfb5830693db",
   "metadata": {},
   "outputs": [],
   "source": [
    "import numpy as np\n",
    "import random\n",
    "import matplotlib.pyplot as plt"
   ]
  },
  {
   "cell_type": "markdown",
   "id": "a95344c2-d71a-47bd-b339-22c95ceefec2",
   "metadata": {},
   "source": [
    "# Initialization of Parameters"
   ]
  },
  {
   "cell_type": "code",
   "execution_count": 36,
   "id": "346a33d9-9ef9-46c0-8386-f40cf9199eff",
   "metadata": {},
   "outputs": [],
   "source": [
    "doors = np.array([0, 1, 2])\n",
    "choice = np.random.randint(0 ,3)\n",
    "correct_choice = random.choice(doors)\n",
    "host_choice = host(choice, correct_choice, doors)\n",
    "\n",
    "switch_iters, stay_iters = 100_000, 100_000"
   ]
  },
  {
   "cell_type": "markdown",
   "id": "5632951a-0d8f-400b-96a3-b0259cd80f9e",
   "metadata": {},
   "source": [
    "# When Player choose to switch"
   ]
  },
  {
   "cell_type": "code",
   "execution_count": 20,
   "id": "b98092a0-980e-4efb-83b7-fb70b53c0513",
   "metadata": {},
   "outputs": [],
   "source": [
    "def switch(doors, choice, host):\n",
    "    ..."
   ]
  },
  {
   "cell_type": "markdown",
   "id": "47b0cdbb-5835-425a-a30d-8e950b04f53f",
   "metadata": {},
   "source": [
    "# When player doesnt choose to switch"
   ]
  },
  {
   "cell_type": "code",
   "execution_count": 11,
   "id": "7bda5918-07fb-4bc8-bc71-3170082d96ff",
   "metadata": {},
   "outputs": [],
   "source": [
    "def no_switch():\n",
    "    ..."
   ]
  },
  {
   "cell_type": "markdown",
   "id": "caa09b11-2ce0-436d-9588-d9e5737ea76f",
   "metadata": {},
   "source": [
    "# Define Host (Monty)"
   ]
  },
  {
   "cell_type": "code",
   "execution_count": 28,
   "id": "2cecde04-9dbc-49e3-99d5-05179c66193b",
   "metadata": {},
   "outputs": [],
   "source": [
    "def host(choice, correct_choice, doors):\n",
    "    all_doors = np.arange(len(doors))\n",
    "    mask = (all_doors != choice) & (all_doors != correct_choice)\n",
    "    host = all_doors[mask][0]\n",
    "    return host"
   ]
  },
  {
   "cell_type": "markdown",
   "id": "e0ac7582-ea6b-459f-a15d-6fa308c53808",
   "metadata": {},
   "source": [
    "# Plotting"
   ]
  },
  {
   "cell_type": "code",
   "execution_count": null,
   "id": "1c87a626-913f-4a00-a0e5-59df5c3c94f7",
   "metadata": {},
   "outputs": [],
   "source": []
  }
 ],
 "metadata": {
  "kernelspec": {
   "display_name": "Python 3 (ipykernel)",
   "language": "python",
   "name": "python3"
  },
  "language_info": {
   "codemirror_mode": {
    "name": "ipython",
    "version": 3
   },
   "file_extension": ".py",
   "mimetype": "text/x-python",
   "name": "python",
   "nbconvert_exporter": "python",
   "pygments_lexer": "ipython3",
   "version": "3.13.5"
  }
 },
 "nbformat": 4,
 "nbformat_minor": 5
}
